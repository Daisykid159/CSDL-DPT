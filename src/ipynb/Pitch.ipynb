{
 "cells": [
  {
   "cell_type": "code",
   "execution_count": 1,
   "metadata": {},
   "outputs": [],
   "source": [
    "import sys\n",
    "import numpy as np\n",
    "from aubio import source, pitch"
   ]
  },
  {
   "cell_type": "code",
   "execution_count": 2,
   "metadata": {},
   "outputs": [
    {
     "name": "stdout",
     "output_type": "stream",
     "text": [
      "1293\n",
      "Average frequency = 55.723824 hz\n",
      "15\n",
      "[62.18583, 57.528336, 62.67944, 53.62071, 57.58246, 56.83643, 51.17744, 53.344643, 47.943546, 55.50114, 55.22683, 51.7329, 56.659367, 60.590458, 57.93879]\n"
     ]
    }
   ],
   "source": [
    "\n",
    "win_s = 4096\n",
    "hop_s = 512\n",
    "\n",
    "samplerate = 44100\n",
    "s = source('D:/fullstrack/CSDLDPT/tool_instrument_voice_recognition/src/File âm thanh/1 Cello/cello_01.wav', samplerate, hop_s)\n",
    "\n",
    "samplerate = s.samplerate\n",
    "\n",
    "tolerance = 0.8\n",
    "\n",
    "pitch_o = pitch(\"yin\", win_s, hop_s, samplerate)\n",
    "pitch_o.set_unit(\"midi\")\n",
    "pitch_o.set_tolerance(tolerance)\n",
    "\n",
    "pitches = []\n",
    "confidences = []\n",
    "\n",
    "total_frames = 0\n",
    "while True:\n",
    "    samples, read = s()\n",
    "    pitch = pitch_o(samples)[0]\n",
    "    pitches += [pitch]\n",
    "    confidence = pitch_o.get_confidence()\n",
    "    confidences += [confidence]\n",
    "    total_frames += read\n",
    "    if read < hop_s: break\n",
    "\n",
    "result = []\n",
    "\n",
    "print(len(pitches))\n",
    "step = int(len(pitches)/15)\n",
    "\n",
    "for i in range(0, 15, 1):\n",
    "    max = step*(i+1)\n",
    "    if(i == 9):\n",
    "        max = len(pitches) - 1\n",
    "    pitchLocal = []\n",
    "    for j in range(step*i, max, 1):\n",
    "        pitchLocal.append(pitches[j])\n",
    "    result.append(np.array(pitchLocal).mean())\n",
    "\n",
    "print(\"Average frequency = \" + str(np.array(pitches).mean()) + \" hz\")\n",
    "print(len(result))\n",
    "print(result)\n"
   ]
  }
 ],
 "metadata": {
  "interpreter": {
   "hash": "49cb93f377a7abe7414b7b0f21fb3017538004a126cf690fb524202736b7fb92"
  },
  "kernelspec": {
   "display_name": "Python 3.9.7 ('base')",
   "language": "python",
   "name": "python3"
  },
  "language_info": {
   "codemirror_mode": {
    "name": "ipython",
    "version": 3
   },
   "file_extension": ".py",
   "mimetype": "text/x-python",
   "name": "python",
   "nbconvert_exporter": "python",
   "pygments_lexer": "ipython3",
   "version": "3.11.7"
  },
  "orig_nbformat": 4
 },
 "nbformat": 4,
 "nbformat_minor": 2
}
