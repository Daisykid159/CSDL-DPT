{
 "cells": [
  {
   "cell_type": "code",
   "execution_count": 1,
   "metadata": {},
   "outputs": [],
   "source": [
    "import librosa.display\n",
    "import matplotlib.pyplot as plt"
   ]
  },
  {
   "cell_type": "code",
   "execution_count": 2,
   "metadata": {},
   "outputs": [],
   "source": [
    "def Find_Max(arr, f, l):\n",
    "    \"\"\"\n",
    "    :param arr: list of integer\n",
    "    :return: item max of list\n",
    "    \"\"\"\n",
    "    max = arr[f]\n",
    "\n",
    "    for i in range(f, l):\n",
    "        if max < arr[i]:\n",
    "            max = arr[i]\n",
    "\n",
    "    return max\n",
    "\n",
    "\n",
    "def Find_Min(arr, f, l):\n",
    "    \"\"\"\n",
    "    :param arr: list of integer\n",
    "    :return: item max of list\n",
    "    \"\"\"\n",
    "    min = arr[f]\n",
    "\n",
    "    for i in range(f, l):\n",
    "        if min > arr[i]:\n",
    "            min = arr[i]\n",
    "\n",
    "    return min\n",
    "\n",
    "\n",
    "def KhoangLang(arr, f, l):\n",
    "    max = Find_Max(arr, f, l)\n",
    "    min = Find_Min(arr, f, l)\n",
    "    tb = (max + min) / 2\n",
    "    nguong = tb * 0.3\n",
    "    dem = 0\n",
    "    for i in range(f, l):\n",
    "        if arr[i] > nguong:\n",
    "            dem = dem + 1\n",
    "\n",
    "    return 100-(dem / (l-f)) * 100"
   ]
  },
  {
   "cell_type": "code",
   "execution_count": 3,
   "metadata": {},
   "outputs": [
    {
     "name": "stdout",
     "output_type": "stream",
     "text": [
      "(20, 302)\n",
      "khoang lang theo 1 s:\n",
      "thoi gian:  0  =  18.426303854875286\n",
      "thoi gian:  1  =  48.530612244897966\n",
      "thoi gian:  2  =  47.795918367346935\n",
      "thoi gian:  3  =  48.49433106575963\n",
      "thoi gian:  4  =  49.990929705215414\n",
      "thoi gian:  5  =  49.63265306122449\n",
      "thoi gian:  6  =  51.156462585034014\n"
     ]
    },
    {
     "data": {
      "text/plain": [
       "<Figure size 500x500 with 0 Axes>"
      ]
     },
     "metadata": {},
     "output_type": "display_data"
    }
   ],
   "source": [
    "plt.figure(figsize=(5, 5))\n",
    "path = \"D:/fullstrack/CSDLDPT/tool_instrument_voice_recognition/src/File âm thanh/1 máy sấy tóc/may_say_toc_1.wav\"\n",
    "y, sr = librosa.load(path)  # y la bien do theo thoi gian, sr tan so lay mau\n",
    "print(librosa.feature.mfcc(y=y, sr=sr).shape)\n",
    "print(\"khoang lang theo 1 s:\")\n",
    "for i in range(0, 7):\n",
    "   print(\"thoi gian: \", i, \" = \",KhoangLang(y, i*sr, (i+1)*sr))"
   ]
  }
 ],
 "metadata": {
  "interpreter": {
   "hash": "49cb93f377a7abe7414b7b0f21fb3017538004a126cf690fb524202736b7fb92"
  },
  "kernelspec": {
   "display_name": "Python 3.9.7 ('base')",
   "language": "python",
   "name": "python3"
  },
  "language_info": {
   "codemirror_mode": {
    "name": "ipython",
    "version": 3
   },
   "file_extension": ".py",
   "mimetype": "text/x-python",
   "name": "python",
   "nbconvert_exporter": "python",
   "pygments_lexer": "ipython3",
   "version": "3.11.7"
  },
  "orig_nbformat": 4
 },
 "nbformat": 4,
 "nbformat_minor": 2
}
